![image](figuras/batalha-quantum.png)

# Batalha de dados {Quantum} Itaú 2023

## Desafio: Otimização de portfólio

### Grupo 04

* Adriano de Araújo Borges
* Gabriel Pires Aquino de Carvalho
* Yara Rodrigues Inácio
* André Alves de Aguiar
* Bárbara Abigail Ferreira Ribeiro
# Entregáveis

Ao final da batalha, a entrega do grupo deverá contemplar os seguintes pontos:

1. Solução clássica do problema.
    * Construção dos vínculos.
    * Tempo de execução.
    * Valor da função objetiva.
    * Não violação das restrições.
2. Solução quântica do problema.
    * Profundidade do circuito.
    * Quantidade de parâmetros.
    * Potencial de escabilidade da solução (como o algoritmo escala com o aumento do número de produtos).
    * Poderão ser exploradas técnicas de mitigação de erro.
    * Justificativa da escolha do hardware.
    * Resultados em hardware real apontando a resposta correta com a maior probabilidade possível.
    * Comparação entre os algoritmos explorados (`QAOA`, `VQE` ou outros).
    * Os grupos que resolverem os 3 cenários do problema quântico (fácil, médio e difícil), terão um diferencial na pontuação.
3. Os três finalistas, deverão preparar uma apresentação justificando a solução apresentada (com duração máxima de 10 minutos).
    * Explicação do resultado clássico (Valor da função objetiva, tempo de execução, estratégias utilizadas, solver e etc).
    * Algoritmos utilizados na solução quântica.
    * Resultados obtidos (comparação entre diferentes algoritmos).
    * Resultados obtidos em hardwares quânticos (comentar sobre os desafios).
    * Escalabilidade da solução e possíveis próximos passos.
    * Se o grupo tivesse mais tempo, o que mais poderia ter sido explorado?

Observação: A criatividade e qualidade da solução terão um impacto positivo na classificação final.

## Regras

1. As soluções clássicas e quânticas são independentes e possuem pontuações diferentes.
2. A solução quântica, poderá ser implementada utilizando um dos algoritmos abaixo:
    * `VQE`
        * É permitida a utilização do módulo `VQE` do Qiskit.
        * Haverá pontuação diferenciada para grupos que decidirem não utilizar o `VQE` caixa preta e construir toda a solução open box.
        * Independente do método escolhido, a solução com maior impacto para o case será levada em consideração.
        * A construção do ansatz poderá ser feita usando os métodos `TwoLocal`, `NLocal` ou customizada a partir de um circuito quântico construído pelo grupo.
        * Haverá pontuação diferenciada para grupos que decidirem não utilizar os módulos prontos (`TwoLocal` e `NLocal`).
    * `QAOA`
        * É permitida a utilização do módulo `QAOA` ou `QAOAAnsatz` do Qiskit, se o estado inicial e o mixer forem customizados pelo grupo.
        * Haverá pontuação diferenciada para grupos que decidirem não utilizar o `QAOA` caixa preta e construir toda a solução open box.
        * Independente do método escolhido, a solução com maior impacto para o case será levada em consideração.
        * A construção do ansatz deverá ser feita a partir de um circuito quântico construído pelo grupo.
        * A construção do mixer deverá ser feita a partir de um circuito quântico construído pelo grupo.
        * Haverá pontuação diferenciada para grupos que construírem o circuito que implementa a Hamiltoniana do problema.
    * Outros algoritmos
        * O grupo poderá apresentar como solução um algoritmo diferente do `QAOA`/`VQE`.
        * O grupo deverá justificar os benefícios da nova solução comparando com os algoritmos base (`QAOA` e `VQE`).
        * Haverá pontuação diferenciada para os grupos que escolherem essa abordagem.

Em caso de dúvidas, pergunte aos mentores.
# Materiais de apoio

## Workshops
* Workshop dia 1
    * Video: https://www.youtube.com/watch?v=8OmpEYCVsCw&t=6s
    * Notebook: https://github.com/taleslimaf/Itau-Data-Meetup-25-Otimizacao/blob/main/Introdu%C3%A7%C3%A3o_%C3%A0_Otimiza%C3%A7%C3%A3o.ipynb
* Workshop dia 2
    * Video: https://www.youtube.com/watch?v=csAtWEDwlV8&t=2s
    * Notebook: https://github.com/marcelogarcia82/Itau-Data-Meetup-25-IntroducaoComputacaoQuantica/blob/main/Dia_02_Marcelo_Workshop_Quantum.ipynb
* Workshop dia 3
    * Video: https://www.youtube.com/watch?v=lCFWGzFeNUM&t=49s
    * Notebook: https://github.com/jvscursulim/itau_data_meetup27_algoritmos_quanticos_hibridos
* Workshop dia 4
    * Video: https://www.youtube.com/watch?v=AB50b3lJXms&t=2s
    * Notebook: https://github.com/andre-juan/itau_data_meetup_28_hardwares_quanticos/blob/main/Dia_04_Andr%C3%A9_Juan_workshop_quantum_hardware.ipynb

## Outros materiais:
* Qiskit Textbook: https://qiskit.org/textbook/content/ch-ex/
* Documentação Qiskit: https://docs.quantum.ibm.com/
* Documentação Scipy Optimize Minimize: https://docs.scipy.org/doc/scipy/reference/generated/scipy.optimize.minimize.html
* Documentação CVXPY: https://www.cvxpy.org/

# Orientações

As funções `prepara_amostra_problema`, `carrega_problema_qubo` e `gera_relatorio` são funções criadas para auxiliar vocês no desenvolvimento. A função `prepara_amostra_problema` prepara uma amostra a partir da base de produtos dado uma seed, já a função `carrega_problema_qubo` prepara a formulação qubo do problema de acordo com a amostra gerada pela seed de input e por fim, a função `gera_relatório` espera uma seed e um `np.ndarray` binário que representa a resposta obtida após o processo de otimização, portanto ela deve ser usada para que vocês verifiquem suas respostas.

## Exemplos de uso:

* `prepara_amostra_problema`
```python
sample, cov_sample = prepara_amostra_problema(seed=42)
```

* `carrega_problema_qubo`
```python
qubo = carrega_problema_qubo(seed=42)
```

* `gera_relatorio`
```python
variaveis_resposta = np.array([0, 1, 1, 1, 0, 0])
gera_relatorio(seed=42, variaveis_resposta=variaveis_resposta)
```
Observação: As variáveis resposta acima não refletem a solução para a seed 42, ela foi escolhida aleatóriamente apenas ser usada como no exemplo de como usar a função.

Observação 2: O ordenamento das variáveis resposta (binária) deve ser mantido da seguinte maneira: `[produto1_classe1, produto2_classe1, produto1_classe2, produto2_classe2, produto1_classe3, produto2_classe3]` (seguindo a sequência apresentada no `DataFrame` dos dados fornecidos, como apresentado na célula de código abaixo)
from utils import prepara_amostra_problema

sample, _ = prepara_amostra_problema(seed=42)
sample
## Comentários sobre a versão quântica

* Através da função `carrega_problema_qubo`, vocês conseguem obter o problema formulado acima no formalismo para os cenários das seeds, para usar nos algoritmos quânticos vocês só precisarão converter para Ising.
* É permitido usar as versões caixa preta do `VQE` e `QAOA` presentes no Qiskit apenas para testes. A solução final não poderá conter os módulos caixa preta `VQE`, `QAOA` e o `QAOAAnsatz` (em caso de dúvidas consulte as regras ou pergunte aos mentores)
* Se forem usar o `QAOA`, vocês tem a liberdade de alterar o estado inicial ($\phi_0$) e a Hamiltoniana do mixer, abaixo segue uma figura que exemplifica as camadas do circuito. Obs: É importante ressaltar que seu circuito pode ter várias aplicações da Hamiltoniana do problema e da Hamiltoniana do mixer, sendo assim a figura abaixo com apenas 1 aplicações de ambos serve apenas como ilustração do formato do circuito.
![image](figuras/exemplo_circuito_qaoa.png)
# Bibliotecas
# imports das bibliotecas

import cvxpy as cp
import matplotlib.pyplot as plt
import numpy as np
import pandas as pd
import plotly.graph_objects as go
import plotly.express as px
import scipy
import seaborn as sns

from qiskit import execute
from qiskit.circuit import ClassicalRegister, QuantumCircuit, QuantumRegister, ParameterVector
from qiskit.circuit.library import TwoLocal, NLocal, QAOAAnsatz
from qiskit.primitives import BackendSampler, BackendEstimator
from qiskit.providers.fake_provider import FakeCairoV2
from qiskit.visualization import plot_histogram, plot_distribution, plot_gate_map
from qiskit.quantum_info import SparsePauliOp
from qiskit_aer import Aer, AerSimulator
from qiskit_aer.noise import NoiseModel
from qiskit_algorithms.minimum_eigensolvers import NumPyMinimumEigensolver, VQE, QAOA
from qiskit_algorithms.optimizers import (ADAM,
                                          AQGD,
                                          BOBYQA,
                                          CG, 
                                          COBYLA,
                                          GradientDescent,
                                          L_BFGS_B,
                                          P_BFGS,
                                          POWELL,
                                          TNC,
                                          SPSA,
                                          QNSPSA,
                                          SLSQP,
                                          UMDA,
                                          ESCH,
                                          DIRECT_L,
                                          DIRECT_L_RAND,
                                          GSLS,
                                          NELDER_MEAD,
                                          CRS,
                                          NFT,
                                          SNOBFIT,
                                          ISRES,
                                          IMFIL
                                          )
from qiskit_ibm_provider import IBMProvider, least_busy
from qiskit_ibm_runtime import QiskitRuntimeService, Session, Estimator, Options

from utils import carrega_problema_qubo, gera_relatorio, prepara_amostra_problema
Na célula de código abaixo vocês irão inserir o token de acesso a API da IBM Quantum que será fornecido pela organização
token = "b82277513746196098b949d472c9becd9b7202c237030050780eaafa0e27cc592d8b0a93da322976dfb126267fa818e8bc98a7d2590ec2c7f9c9ae451e2b8163"

IBMProvider.save_account(token=token, overwrite=True)
Para escolher o hardware que o grupo vai usar para realizar inferência, vocês vão precisar preencher as informações de `hub`, `group`, `project` e `name`. As informações de `hub`, `group` e `project` devem ser preenchidas com os dados fornecidos pela organização, enquanto que o `name` vocês terão a liberdade para escolher entre os seguintes hardwares e simuladores:

Hardwares quânticos
* `ibm_algiers`
* `ibm_cairo`
* `ibm_hanoi`
* `ibmq_kolkata`
* `ibmq_mumbai`

Simuladores
* `ibmq_qasm_simulator`
* `simulator_mps`
numero_do_grupo = "04"
project = "quantum"+numero_do_grupo
name = "ibmq_qasm_simulator"

provider = IBMProvider(instance=f"itau-unibanco/batalha-de-quant/{project}")
hardware = provider.get_backend(name=name)
service = QiskitRuntimeService(instance=f"itau-unibanco/batalha-de-quant/{project}")
# Problema de otimização

## Formulação quadrática

$$\begin{aligned}
\min_{x \in \{0, 1\}^n}  x^T \Sigma x - \mu^T x\\
\text{subject to: } A x = L \\
                    R^T x \leq c
\end{aligned}$$



- $x \in \{0, 1\}^n$ vetor binário que indica se o ativo foi escolhido ($x[i] = 1$) ou não ($x[i] = 0$),
- $\mu \in \mathbb{R}^n$ retorno médio dos ativos (`lista_produto.ret_med`),
- $\Sigma \in \mathbb{R}^{n \times n}$ matriz de coravariância (`matriz_de_covariancia`),
- $A$ Matriz do vínculo que define quantidade de produtos por classe,
- $L$ vetor com quantidade de produtos que devem ser selecionados de cada classe (`dict_quantidade_produtos`).
- $R$ matriz que representa a avaliação de risco dos produtos (`lista_produto.aval`).
- $c$ máximo risco permitido
# Cenário clássico
## Configurações

### Observação: Favor não alterar nada na célula de código abaixo!
lista_produtos = pd.read_csv(filepath_or_buffer="dados_batalha_classico.csv", index_col=0)
matriz_de_covariancia = pd.read_csv(filepath_or_buffer="covariancia_classico.csv", index_col=0)

dict_quantidade_produtos = {'classe_0': 5,
                            'classe_1': 2,
                            'classe_2': 3,
                            'classe_3': 1,
                            'classe_4': 1,
                            'classe_5': 4,
                            'classe_6': 2,
                            'classe_7': 2,
                            'classe_8': 1,
                            'classe_9': 1}

c = 50
lista_produtos
import time
dict_lista_produtos_classe = {}
for classe in dict_quantidade_produtos.keys():
    dict_lista_produtos_classe[classe] = lista_produtos.loc[lista_produtos['classe'] == classe]

dict_x = {classe: cp.Variable(shape=len(produtos), boolean=True) for classe, produtos in dict_lista_produtos_classe.items()}

objective = cp.Minimize(sum(
    dict_x[classe] @ matriz_de_covariancia.loc[produtos['produto'].values][produtos['produto'].values].values @ dict_x[classe] - 
    produtos['retorno'].values.T @ dict_x[classe] +
    cp.sum(produtos['aval'].values @ dict_x[classe]) - c # Condição: Somatório dos fatores da última coluna <= c
    for classe, produtos in dict_lista_produtos_classe.items()
))


constraints = [cp.sum(dict_x[classe]) == quantidade for classe, quantidade in dict_quantidade_produtos.items()]

constraints += [produtos['aval'].values @ dict_x[classe] <= c for classe, produtos in dict_lista_produtos_classe.items()]  
problem = cp.Problem(objective=objective, constraints=constraints)

start_time = time.time()
resultado = problem.solve(solver="CPLEX", verbose=False)
end_time = time.time()
execution_time = end_time - start_time
print(f"Tempo de execução: {execution_time:.2f} segundos")

print("Valor da função objetiva (risco total):", resultado)

print("Produtos escolhidos por classe:")

somatorio = 0
for classe, produtos in dict_lista_produtos_classe.items():

    if 'aval' in produtos.columns:
        indices_escolhidos = [i for i in range(len(produtos)) if dict_x[classe].value[i] > 0.5]
        
        produtos_escolhidos = [produtos['aval'].iloc[i] for i in indices_escolhidos]
        produtos_selecionados = [(produtos['produto'].iloc[i]) for i in indices_escolhidos]
#         print(f"Produtos escolhidos {classe}: {produtos_selecionados, produtos_escolhidos}")
                
        print(f"{classe}:")
        display(dict_lista_produtos_classe[classe][dict_x[classe].value.astype(bool)])
        semi_somatorio =0
        for i in indices_escolhidos: 
            semi_somatorio += produtos['aval'].iloc[i]
        somatorio += semi_somatorio
 
    else:
        print(f"Classe {classe}: Coluna 'aval' não encontrada no DataFrame.")
        
print(f"Somatorio aval = {somatorio}")
# Cenário quântico

## Identificação dos jobs do grupo para recuperação dos resultados

A linha de código abaixo, dá um exemplo de como colocar uma tag para identificar o seu job.
```python
job = backend.run(mapped_circuit, shots=1024, job_tags=["hackaXX"])
```

O argumento "job_tags" do método `run` (seja circuito, ou runtime) é uma lista com as tags desejadas sempre passe a tag do seu grupo (exemplo: `"hacka01"`), e fique à vontade pra passar tags adicionais, caso deseje. Importante é que a tag do time seja passada, pra ser possível identificar os seus jobs!!!!
## Configurações

### Observação: Favor não alterar nada na célula de código abaixo!
# Não altere nada nas linhas de código dessa célula!

seed_list = [21, 71, 120]
shots = 10**4
backend = AerSimulator(method="matrix_product_state")
estimator = BackendEstimator(backend=backend)
sampler = BackendSampler(backend=backend)
dict_alocacao = {"classe_1": 0.3,
                 "classe_2": 0.3,
                 "classe_3": 0.4}
dict_quantidade_produtos = {"classe_1": 1,
                            "classe_2": 1,
                            "classe_3": 1}
aval_limite_dict = {21: 4,
                    71: 4}
## Seed: 120 (Fácil)
### QAOA
# desenvolva seu código abaixo
seed = 120

qubo = carrega_problema_qubo(seed)

service1 = QiskitRuntimeService(instance=f"itau-unibanco/batalha-de-quant/{project}")
backend1 = service.backend("ibmq_qasm_simulator")
# QAOA 
from qiskit.quantum_info import Pauli
from qiskit import QuantumCircuit

def create_initial_state_circuit(n_qubits):
    """
    Cria um circuito quântico para o estado inicial |+⟩^⨁n_qubits.
    
    Parameters:
        n_qubits (int): Número de qubits no circuito.

    Returns:
        QuantumCircuit: Circuito quântico do estado inicial.
    """
    initial_state_circuit = QuantumCircuit(n_qubits)
    initial_state_circuit.h(range(n_qubits))
    return initial_state_circuit


def create_xy_mixer_circuit(n_qubits, gamma):
    """
    Cria um circuito quântico para o mixer XY com o parâmetro de mistura gamma.

    Parameters:
        n_qubits (int): Número de qubits no circuito.
        gamma (float): Parâmetro de mistura para o mixer XY.

    Returns:
        QuantumCircuit: Circuito quântico do mixer XY.
    """
    mixer_circuit = QuantumCircuit(n_qubits)
    
    # Aplicar operadores XY para cada par de qubits adjacentes
    for qubit in range(n_qubits - 1):
        mixer_circuit.rx(-gamma, qubit)
        mixer_circuit.ry(-gamma, qubit)
        mixer_circuit.cx(qubit, qubit + 1)
        mixer_circuit.rx(gamma, qubit + 1)
        mixer_circuit.ry(gamma, qubit + 1)
        mixer_circuit.cx(qubit, qubit + 1)
    
    return mixer_circuit

def create_dicke_state_circuit(num_qubits, num_ones):
    circuit = QuantumCircuit(num_qubits)
    
    # Apply Hadamard gates to all qubits
    for qubit in range(num_qubits):
        circuit.h(qubit)
    
    # Apply X gates to set specific qubits to |1⟩
    ones_indices = [0, 2, 4]  # Replace with the indices where you want |1⟩
    for index in ones_indices:
        circuit.x(index)
    
    return circuit

num_qubits = 6
# Converte o QUBO para Ising Hamiltoniano
# Problem to Hamiltonian operator
gamma = 1

qubitOp, offset = qubo.to_ising()
print("Offset:", offset)
print("Ising Hamiltonian:")
print(str(qubitOp))

# QAOA ansatz circuit
# mixer está dando erro
    # possível solução: compatibilizar com os parametros iniciais
ansatz = QAOAAnsatz(qubitOp, reps=2, mixer_operator = create_xy_mixer_circuit(num_qubits, gamma), initial_state=create_dicke_state_circuit(6, 3))
# Draw
ansatz.decompose(reps=3).draw(output="mpl")

ansatz.decompose().draw("mpl")
def cost_func(params, ansatz, hamiltonian, estimator):
    """Return estimate of energy from estimator

    Parameters:
        params (ndarray): Array of ansatz parameters
        ansatz (QuantumCircuit): Parameterized ansatz circuit
        hamiltonian (SparsePauliOp): Operator representation of Hamiltonian
        estimator (Estimator): Estimator primitive instance

    Returns:
        float: Energy estimate
    """
    cost = estimator.run(ansatz, hamiltonian, parameter_values=params, job_tags = ["HACKA04"]).result().values[0]
    return cost
x0 = 2 * np.pi * np.random.rand(ansatz.num_parameters)
x0
import time

fun_values = []
menor_energia = 9999
maior_energia = -9999
epocas = 30

start_time = time.time()
for epoca in range(epocas):
    res = scipy.optimize.minimize(cost_func, x0, args=(ansatz, qubitOp, estimator), method="COBYLA")
    x0 = res.x
    fun_values.append(res.fun)
    if(res.fun < menor_energia):
        menor_energia = res.fun
        best_res = res
        
    if(res.fun > maior_energia):
        maior_energia = res.fun
        
end_time = time.time()

print(f"Execution time: {end_time-start_time} seconds")
print(f"Variation cost (greater energy - least energy): {maior_energia - menor_energia}")
    
plt.plot(np.arange(1, epocas+1), fun_values, marker='o')
plt.title('Valores de res.fun em cada iteração')
plt.xlabel('Iteração')
plt.ylabel('res.fun')
plt.show()
best_res
# Assign solution parameters to ansatz
qc = ansatz.assign_parameters(best_res.x)
# Add measurements to our circuit
qc.measure_all()
# Sample ansatz at optimal parameters
samp_dist = sampler.run(qc, shots=int(1e2)).result().quasi_dists[0]
plot_distribution(samp_dist.binary_probabilities(), figsize=(15, 5))
from operator import itemgetter

binary_probs = samp_dist.binary_probabilities()
max_prob_key = max(binary_probs.items(), key=itemgetter(1))[0]
max_prob_key_invertida = max_prob_key[::-1]

print("O valor mais frequente nas estatísticas é:", max_prob_key_invertida)

vetor_resposta = [int(bit) for bit in max_prob_key_invertida]
vetor_resposta
variaveis_resposta = np.array(vetor_resposta)

gera_relatorio(seed, variaveis_resposta=variaveis_resposta)
from qiskit_ibm_provider import least_busy

devices = provider.backends(simulator=False, operational=True)
backend_least_busy = least_busy(devices)

display(backend_least_busy.status())

# Sample ansatz at optimal parameters
options = Options()
options.transpilation.skip_transpilation = True
options.execution.shots = 542

session = Session(backend=backend_least_busy.name)

estimatorHardware = Estimator(session=session, options={"shots": int(1e2)})
x0 = best_res.x
x0
import time

fun_values = []
menor_energia = 9999
maior_energia = -9999
epocas = 1

start_time = time.time()
for epoca in range(epocas):
    res = scipy.optimize.minimize(cost_func, x0, args=(ansatz, qubitOp, estimatorHardware), method="COBYLA")
    x0 = res.x
    fun_values.append(res.fun)
    if(res.fun < menor_energia):
        menor_energia = res.fun
        best_res_hardware = res
        
    if(res.fun > maior_energia):
        maior_energia = res.fun
        
end_time = time.time()

print(f"Execution time: {end_time-start_time} seconds")
print(f"Variation cost (greater energy - least energy): {maior_energia - menor_energia}")
    
plt.plot(np.arange(1, epocas+1), fun_values, marker='o')
plt.title('Valores de res.fun em cada iteração')
plt.xlabel('Iteração')
plt.ylabel('res.fun')
plt.show()
best_res_hardware
# Assign solution parameters to ansatz
qc_hardware = ansatz.assign_parameters(best_res_hardware.x)
# Add measurements to our circuit
qc_hardware.measure_all()
# Sample ansatz at optimal parameters
samp_dist = sampler.run(qc, shots=int(1e2), job_tags = ["HACKA04"]).result().quasi_dists[0]
# Close the session since we are now done with it
session.close()
plot_distribution(samp_dist.binary_probabilities(), figsize=(15, 5))
from operator import itemgetter

binary_probs = samp_dist.binary_probabilities()
max_prob_key = max(binary_probs.items(), key=itemgetter(1))[0]
max_prob_key_invertida = max_prob_key[::-1]

print("O valor mais frequente nas estatísticas é:", max_prob_key_invertida)

vetor_resposta = [int(bit) for bit in max_prob_key_invertida]
vetor_resposta
variaveis_resposta = np.array(vetor_resposta)

gera_relatorio(seed, variaveis_resposta=variaveis_resposta)
### VQE
ansatz = TwoLocal(num_qubits=6,
                  rotation_blocks=["ry"],
                  entanglement_blocks="cz",
                  entanglement="full",
                  reps=1,
                  skip_final_rotation_layer=False)

ansatz.draw(output="mpl", style="clifford")
ansatz.decompose().draw(output="mpl", style="clifford")
ansatz.decompose().count_ops()
ansatz.decompose().depth()
# VQE
# Converte o QUBO para Ising Hamiltoniano
qubitOp, offset = qubo.to_ising()
print("Offset:", offset)
print("Ising Hamiltonian:")
print(str(qubitOp))

"""# Rodando o VQE"""

initial_point = [1 for _ in range(12)]

vqe_solver = VQE(estimator=estimator,
                     ansatz=ansatz,
                     optimizer=COBYLA(maxiter=200),
                     initial_point=initial_point)

resultado_vqe = vqe_solver.compute_minimum_eigenvalue(qubo.to_ising()[0])

ansatz = ansatz.decompose().assign_parameters(resultado_vqe.optimal_parameters)
ansatz.measure_all()
counts = AerSimulator().run(ansatz, shots=8192).result().get_counts()
plot_histogram(counts, figsize=(25, 5))
counts_list = list(counts.values())
max_counts = max(counts_list)
max_count_idx = counts_list.index(max_counts)
answer_vqe = list(counts.keys())[max_count_idx][::-1]
answer_vqe = np.array([int(char) for char in answer_vqe])
print(answer_vqe)
variaveis_resposta = np.array(answer_vqe)
gera_relatorio(seed, variaveis_resposta=variaveis_resposta)
## Seed: 21 (Médio)
### QAOA
# desenvolva seu código abaixo
seed = 21

qubo = carrega_problema_qubo(seed)

service1 = QiskitRuntimeService(instance=f"itau-unibanco/batalha-de-quant/{project}")
backend1 = service.backend("ibmq_qasm_simulator")
# QAOA 
from qiskit.quantum_info import Pauli
from qiskit import QuantumCircuit

def create_initial_state_circuit(n_qubits):
    """
    Cria um circuito quântico para o estado inicial |+⟩^⨁n_qubits.
    
    Parameters:
        n_qubits (int): Número de qubits no circuito.

    Returns:
        QuantumCircuit: Circuito quântico do estado inicial.
    """
    initial_state_circuit = QuantumCircuit(n_qubits)
    initial_state_circuit.h(range(n_qubits))
    return initial_state_circuit


def create_xy_mixer_circuit(n_qubits, gamma):
    """
    Cria um circuito quântico para o mixer XY com o parâmetro de mistura gamma.

    Parameters:
        n_qubits (int): Número de qubits no circuito.
        gamma (float): Parâmetro de mistura para o mixer XY.

    Returns:
        QuantumCircuit: Circuito quântico do mixer XY.
    """
    mixer_circuit = QuantumCircuit(n_qubits)
    
    # Aplicar operadores XY para cada par de qubits adjacentes
    for qubit in range(n_qubits - 1):
        mixer_circuit.rx(-gamma, qubit)
        mixer_circuit.ry(-gamma, qubit)
        mixer_circuit.cx(qubit, qubit + 1)
        mixer_circuit.rx(gamma, qubit + 1)
        mixer_circuit.ry(gamma, qubit + 1)
        mixer_circuit.cx(qubit, qubit + 1)
    
    return mixer_circuit

def create_dicke_state_circuit(num_qubits, num_ones):
    circuit = QuantumCircuit(num_qubits)
    
    # Apply Hadamard gates to all qubits
    for qubit in range(num_qubits):
        circuit.h(qubit)
    
    # Apply X gates to set specific qubits to |1⟩
    ones_indices = [0, 2, 4]  # Replace with the indices where you want |1⟩
    for index in ones_indices:
        circuit.x(index)
    
    return circuit

num_qubits = 6
# Converte o QUBO para Ising Hamiltoniano
# Problem to Hamiltonian operator
gamma = 1

qubitOp, offset = qubo.to_ising()
print("Offset:", offset)
print("Ising Hamiltonian:")
print(str(qubitOp))

# QAOA ansatz circuit
# mixer está dando erro
    # possível solução: compatibilizar com os parametros iniciais
ansatz = QAOAAnsatz(qubitOp, reps=2, mixer_operator = create_xy_mixer_circuit(num_qubits, gamma), initial_state=create_dicke_state_circuit(6, 3))
# Draw
ansatz.decompose(reps=3).draw(output="mpl")

ansatz.decompose().draw("mpl")
def cost_func(params, ansatz, hamiltonian, estimator):
    """Return estimate of energy from estimator

    Parameters:
        params (ndarray): Array of ansatz parameters
        ansatz (QuantumCircuit): Parameterized ansatz circuit
        hamiltonian (SparsePauliOp): Operator representation of Hamiltonian
        estimator (Estimator): Estimator primitive instance

    Returns:
        float: Energy estimate
    """
    cost = estimator.run(ansatz, hamiltonian, parameter_values=params, job_tags = ["HACKA04"]).result().values[0]
    return cost
x0 = 2 * np.pi * np.random.rand(ansatz.num_parameters)
x0
import time

fun_values = []
menor_energia = 9999
maior_energia = -9999
epocas = 30

start_time = time.time()
for epoca in range(epocas):
    res = scipy.optimize.minimize(cost_func, x0, args=(ansatz, qubitOp, estimator), method="COBYLA")
    x0 = res.x
    fun_values.append(res.fun)
    if(res.fun < menor_energia):
        menor_energia = res.fun
        best_res = res
        
    if(res.fun > maior_energia):
        maior_energia = res.fun
        
end_time = time.time()

print(f"Execution time: {end_time-start_time} seconds")
print(f"Variation cost (greater energy - least energy): {maior_energia - menor_energia}")
    
plt.plot(np.arange(1, epocas+1), fun_values, marker='o')
plt.title('Valores de res.fun em cada iteração')
plt.xlabel('Iteração')
plt.ylabel('res.fun')
plt.show()
best_res
# Assign solution parameters to ansatz
qc = ansatz.assign_parameters(best_res.x)
# Add measurements to our circuit
qc.measure_all()
# Sample ansatz at optimal parameters
samp_dist = sampler.run(qc, shots=int(1e2)).result().quasi_dists[0]
plot_distribution(samp_dist.binary_probabilities(), figsize=(15, 5))
from operator import itemgetter

binary_probs = samp_dist.binary_probabilities()
max_prob_key = max(binary_probs.items(), key=itemgetter(1))[0]
max_prob_key_invertida = max_prob_key[::-1]

print("O valor mais frequente nas estatísticas é:", max_prob_key_invertida)

vetor_resposta = [int(bit) for bit in max_prob_key_invertida]
vetor_resposta
variaveis_resposta = np.array(vetor_resposta)

gera_relatorio(seed, variaveis_resposta=variaveis_resposta)
from qiskit_ibm_provider import least_busy

devices = provider.backends(simulator=False, operational=True)
backend_least_busy = least_busy(devices)

display(backend_least_busy.status())

# Sample ansatz at optimal parameters
options = Options()
options.transpilation.skip_transpilation = True
options.execution.shots = 542

session = Session(backend=backend_least_busy.name)

estimatorHardware = Estimator(session=session, options={"shots": int(1e2)})
x0 = best_res.x
x0
import time

fun_values = []
menor_energia = 9999
maior_energia = -9999
epocas = 1

start_time = time.time()
for epoca in range(epocas):
    res = scipy.optimize.minimize(cost_func, x0, args=(ansatz, qubitOp, estimatorHardware), method="COBYLA")
    x0 = res.x
    fun_values.append(res.fun)
    if(res.fun < menor_energia):
        menor_energia = res.fun
        best_res_hardware = res
        
    if(res.fun > maior_energia):
        maior_energia = res.fun
        
end_time = time.time()

print(f"Execution time: {end_time-start_time} seconds")
print(f"Variation cost (greater energy - least energy): {maior_energia - menor_energia}")
    
plt.plot(np.arange(1, epocas+1), fun_values, marker='o')
plt.title('Valores de res.fun em cada iteração')
plt.xlabel('Iteração')
plt.ylabel('res.fun')
plt.show()
best_res_hardware
# Assign solution parameters to ansatz
qc_hardware = ansatz.assign_parameters(best_res_hardware.x)
# Add measurements to our circuit
qc_hardware.measure_all()
# Sample ansatz at optimal parameters
samp_dist = sampler.run(qc, shots=int(1e2), job_tags = ["HACKA04"]).result().quasi_dists[0]
# Close the session since we are now done with it
session.close()
plot_distribution(samp_dist.binary_probabilities(), figsize=(15, 5))
from operator import itemgetter

binary_probs = samp_dist.binary_probabilities()
max_prob_key = max(binary_probs.items(), key=itemgetter(1))[0]
max_prob_key_invertida = max_prob_key[::-1]

print("O valor mais frequente nas estatísticas é:", max_prob_key_invertida)

vetor_resposta = [int(bit) for bit in max_prob_key_invertida]
vetor_resposta
variaveis_resposta = np.array(vetor_resposta)

gera_relatorio(seed, variaveis_resposta=variaveis_resposta)
### VQE
ansatz = TwoLocal(num_qubits=6,
                  rotation_blocks=["ry"],
                  entanglement_blocks="cz",
                  entanglement="full",
                  reps=1,
                  skip_final_rotation_layer=False)

ansatz.draw(output="mpl", style="clifford")
ansatz.decompose().draw(output="mpl", style="clifford")
ansatz.decompose().count_ops()
ansatz.decompose().depth()
# VQE
# Converte o QUBO para Ising Hamiltoniano
qubitOp, offset = qubo.to_ising()
print("Offset:", offset)
print("Ising Hamiltonian:")
print(str(qubitOp))

"""# Rodando o VQE"""

initial_point = [1 for _ in range(12)]

vqe_solver = VQE(estimator=estimator,
                     ansatz=ansatz,
                     optimizer=COBYLA(maxiter=200),
                     initial_point=initial_point)

resultado_vqe = vqe_solver.compute_minimum_eigenvalue(qubo.to_ising()[0])

ansatz = ansatz.decompose().assign_parameters(resultado_vqe.optimal_parameters)
ansatz.measure_all()
counts = AerSimulator().run(ansatz, shots=8192).result().get_counts()
plot_histogram(counts, figsize=(25, 5))
counts_list = list(counts.values())
max_counts = max(counts_list)
max_count_idx = counts_list.index(max_counts)
answer_vqe = list(counts.keys())[max_count_idx][::-1]
answer_vqe = np.array([int(char) for char in answer_vqe])
print(answer_vqe)
variaveis_resposta = np.array(answer_vqe)
gera_relatorio(seed, variaveis_resposta=variaveis_resposta)

## Seed: 71 (Difícil)
# desenvolva seu código abaixo
seed = 71

qubo = carrega_problema_qubo(seed)

service1 = QiskitRuntimeService(instance=f"itau-unibanco/batalha-de-quant/{project}")
backend1 = service.backend("ibmq_qasm_simulator")
# QAOA 
from qiskit.quantum_info import Pauli
from qiskit import QuantumCircuit

def create_initial_state_circuit(n_qubits):
    """
    Cria um circuito quântico para o estado inicial |+⟩^⨁n_qubits.
    
    Parameters:
        n_qubits (int): Número de qubits no circuito.

    Returns:
        QuantumCircuit: Circuito quântico do estado inicial.
    """
    initial_state_circuit = QuantumCircuit(n_qubits)
    initial_state_circuit.h(range(n_qubits))
    return initial_state_circuit


def create_xy_mixer_circuit(n_qubits, gamma):
    """
    Cria um circuito quântico para o mixer XY com o parâmetro de mistura gamma.

    Parameters:
        n_qubits (int): Número de qubits no circuito.
        gamma (float): Parâmetro de mistura para o mixer XY.

    Returns:
        QuantumCircuit: Circuito quântico do mixer XY.
    """
    mixer_circuit = QuantumCircuit(n_qubits)
    
    # Aplicar operadores XY para cada par de qubits adjacentes
    for qubit in range(n_qubits - 1):
        mixer_circuit.rx(-gamma, qubit)
        mixer_circuit.ry(-gamma, qubit)
        mixer_circuit.cx(qubit, qubit + 1)
        mixer_circuit.rx(gamma, qubit + 1)
        mixer_circuit.ry(gamma, qubit + 1)
        mixer_circuit.cx(qubit, qubit + 1)
    
    return mixer_circuit

def create_dicke_state_circuit(num_qubits, num_ones):
    circuit = QuantumCircuit(num_qubits)
    
    # Apply Hadamard gates to all qubits
    for qubit in range(num_qubits):
        circuit.h(qubit)
    
    # Apply X gates to set specific qubits to |1⟩
    ones_indices = [0, 2, 4]  # Replace with the indices where you want |1⟩
    for index in ones_indices:
        circuit.x(index)
    
    return circuit

num_qubits = 6
# Converte o QUBO para Ising Hamiltoniano
# Problem to Hamiltonian operator
gamma = 1

qubitOp, offset = qubo.to_ising()
print("Offset:", offset)
print("Ising Hamiltonian:")
print(str(qubitOp))

# QAOA ansatz circuit
# mixer está dando erro
    # possível solução: compatibilizar com os parametros iniciais
ansatz = QAOAAnsatz(qubitOp, reps=2, mixer_operator = create_xy_mixer_circuit(num_qubits, gamma), initial_state=create_dicke_state_circuit(6, 3))
# Draw
ansatz.decompose(reps=3).draw(output="mpl")

ansatz.decompose().draw("mpl")
def cost_func(params, ansatz, hamiltonian, estimator):
    """Return estimate of energy from estimator

    Parameters:
        params (ndarray): Array of ansatz parameters
        ansatz (QuantumCircuit): Parameterized ansatz circuit
        hamiltonian (SparsePauliOp): Operator representation of Hamiltonian
        estimator (Estimator): Estimator primitive instance

    Returns:
        float: Energy estimate
    """
    cost = estimator.run(ansatz, hamiltonian, parameter_values=params, job_tags = ["HACKA04"]).result().values[0]
    return cost
x0 = 2 * np.pi * np.random.rand(ansatz.num_parameters)
x0
import time

fun_values = []
menor_energia = 9999
maior_energia = -9999
epocas = 30

start_time = time.time()
for epoca in range(epocas):
    res = scipy.optimize.minimize(cost_func, x0, args=(ansatz, qubitOp, estimator), method="COBYLA")
    x0 = res.x
    fun_values.append(res.fun)
    if(res.fun < menor_energia):
        menor_energia = res.fun
        best_res = res
        
    if(res.fun > maior_energia):
        maior_energia = res.fun
        
end_time = time.time()

print(f"Execution time: {end_time-start_time} seconds")
print(f"Variation cost (greater energy - least energy): {maior_energia - menor_energia}")
    
plt.plot(np.arange(1, epocas+1), fun_values, marker='o')
plt.title('Valores de res.fun em cada iteração')
plt.xlabel('Iteração')
plt.ylabel('res.fun')
plt.show()
best_res
# Assign solution parameters to ansatz
qc = ansatz.assign_parameters(best_res.x)
# Add measurements to our circuit
qc.measure_all()
# Sample ansatz at optimal parameters
samp_dist = sampler.run(qc, shots=int(1e2)).result().quasi_dists[0]
plot_distribution(samp_dist.binary_probabilities(), figsize=(15, 5))
from operator import itemgetter

binary_probs = samp_dist.binary_probabilities()
max_prob_key = max(binary_probs.items(), key=itemgetter(1))[0]
max_prob_key_invertida = max_prob_key[::-1]

print("O valor mais frequente nas estatísticas é:", max_prob_key_invertida)

vetor_resposta = [int(bit) for bit in max_prob_key_invertida]
vetor_resposta
variaveis_resposta = np.array(vetor_resposta)

gera_relatorio(seed, variaveis_resposta=variaveis_resposta)
from qiskit_ibm_provider import least_busy

devices = provider.backends(simulator=False, operational=True)
backend_least_busy = least_busy(devices)

display(backend_least_busy.status())

# Sample ansatz at optimal parameters
options = Options()
options.transpilation.skip_transpilation = True
options.execution.shots = 542

session = Session(backend=backend_least_busy.name)

estimatorHardware = Estimator(session=session, options={"shots": int(1e2)})
x0 = best_res.x
x0
import time

fun_values = []
menor_energia = 9999
maior_energia = -9999
epocas = 1

start_time = time.time()
for epoca in range(epocas):
    res = scipy.optimize.minimize(cost_func, x0, args=(ansatz, qubitOp, estimatorHardware), method="COBYLA")
    x0 = res.x
    fun_values.append(res.fun)
    if(res.fun < menor_energia):
        menor_energia = res.fun
        best_res_hardware = res
        
    if(res.fun > maior_energia):
        maior_energia = res.fun
        
end_time = time.time()

print(f"Execution time: {end_time-start_time} seconds")
print(f"Variation cost (greater energy - least energy): {maior_energia - menor_energia}")
    
plt.plot(np.arange(1, epocas+1), fun_values, marker='o')
plt.title('Valores de res.fun em cada iteração')
plt.xlabel('Iteração')
plt.ylabel('res.fun')
plt.show()
best_res_hardware
# Assign solution parameters to ansatz
qc_hardware = ansatz.assign_parameters(best_res_hardware.x)
# Add measurements to our circuit
qc_hardware.measure_all()
# Sample ansatz at optimal parameters
samp_dist = sampler.run(qc, shots=int(1e2), job_tags = ["HACKA04"]).result().quasi_dists[0]
# Close the session since we are now done with it
session.close()
plot_distribution(samp_dist.binary_probabilities(), figsize=(15, 5))
from operator import itemgetter

binary_probs = samp_dist.binary_probabilities()
max_prob_key = max(binary_probs.items(), key=itemgetter(1))[0]
max_prob_key_invertida = max_prob_key[::-1]

print("O valor mais frequente nas estatísticas é:", max_prob_key_invertida)

vetor_resposta = [int(bit) for bit in max_prob_key_invertida]
vetor_resposta
variaveis_resposta = np.array(vetor_resposta)

gera_relatorio(seed, variaveis_resposta=variaveis_resposta)
### VQE ###
ansatz = TwoLocal(num_qubits=6,
                  rotation_blocks=["ry"],
                  entanglement_blocks="cz",
                  entanglement="full",
                  reps=1,
                  skip_final_rotation_layer=False)

ansatz.draw(output="mpl", style="clifford")
ansatz.decompose().draw(output="mpl", style="clifford")
ansatz.decompose().count_ops()
ansatz.decompose().depth()
# VQE
# Converte o QUBO para Ising Hamiltoniano
qubitOp, offset = qubo.to_ising()
print("Offset:", offset)
print("Ising Hamiltonian:")
print(str(qubitOp))

"""# Rodando o VQE"""

initial_point = [1 for _ in range(12)]

vqe_solver = VQE(estimator=estimator,
                     ansatz=ansatz,
                     optimizer=COBYLA(maxiter=200),
                     initial_point=initial_point)

resultado_vqe = vqe_solver.compute_minimum_eigenvalue(qubo.to_ising()[0])

ansatz = ansatz.decompose().assign_parameters(resultado_vqe.optimal_parameters)
ansatz.measure_all()
counts = AerSimulator().run(ansatz, shots=8192).result().get_counts()
plot_histogram(counts, figsize=(25, 5))
counts_list = list(counts.values())
max_counts = max(counts_list)
max_count_idx = counts_list.index(max_counts)
answer_vqe = list(counts.keys())[max_count_idx][::-1]
answer_vqe = np.array([int(char) for char in answer_vqe])
print(answer_vqe)
variaveis_resposta = np.array(answer_vqe)
gera_relatorio(seed, variaveis_resposta=variaveis_resposta)

![image](figuras/itau-quantum-logo.png)
